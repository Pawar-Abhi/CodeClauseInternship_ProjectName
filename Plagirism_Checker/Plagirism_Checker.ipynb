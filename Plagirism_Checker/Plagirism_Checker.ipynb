{
  "nbformat": 4,
  "nbformat_minor": 0,
  "metadata": {
    "colab": {
      "provenance": []
    },
    "kernelspec": {
      "name": "python3",
      "display_name": "Python 3"
    },
    "language_info": {
      "name": "python"
    }
  },
  "cells": [
    {
      "cell_type": "code",
      "source": [
        "import os\n",
        "import re"
      ],
      "metadata": {
        "id": "_ifLVMUrbPIv"
      },
      "execution_count": 11,
      "outputs": []
    },
    {
      "cell_type": "code",
      "execution_count": 12,
      "metadata": {
        "id": "EH74hMbiXpGh"
      },
      "outputs": [],
      "source": [
        "def preprocess_text(text):\n",
        "    # Tokenize by words (ignores punctuation and converts to lowercase)\n",
        "    words = re.findall(r'\\b\\w+\\b', text.lower())\n",
        "    # Remove common stop words (you can expand this list)\n",
        "    stop_words = set(['the', 'a', 'an', 'in', 'on', 'at', 'to', 'and', 'of'])\n",
        "    words = [word for word in words if word not in stop_words]\n",
        "    return set(words)\n",
        "\n",
        "def jaccard_similarity(set1, set2):\n",
        "    intersection = len(set1.intersection(set2))\n",
        "    union = len(set1.union(set2))\n",
        "    return intersection / union if union != 0 else 0\n",
        "\n",
        "def compare_documents(doc1, doc2):\n",
        "    with open(doc1, 'r') as file1, open(doc2, 'r') as file2:\n",
        "        text1 = file1.read()\n",
        "        text2 = file2.read()\n",
        "\n",
        "    set1 = preprocess_text(text1)\n",
        "    set2 = preprocess_text(text2)\n",
        "\n",
        "    similarity = jaccard_similarity(set1, set2)\n",
        "\n",
        "    return similarity"
      ]
    },
    {
      "cell_type": "code",
      "source": [
        "directory = '/content/Data/'\n",
        "files = os.listdir(directory)\n",
        "\n",
        "print(\"Plagiarism Checker\")\n",
        "\n",
        "for i in range(len(files)):\n",
        "    for j in range(i + 1, len(files)):\n",
        "        doc1 = os.path.join(directory, files[i])\n",
        "        doc2 = os.path.join(directory, files[j])\n",
        "\n",
        "        # Check if the paths are files\n",
        "        if os.path.isfile(doc1) and os.path.isfile(doc2):\n",
        "            similarity = compare_documents(doc1, doc2)\n",
        "            print(f\"Similarity between {files[i]} and {files[j]}: {similarity*100:.2f}%\")"
      ],
      "metadata": {
        "colab": {
          "base_uri": "https://localhost:8080/"
        },
        "id": "nLzUSVlebEcR",
        "outputId": "e1de1d1c-d0e9-45e4-9cc8-a65a32c9fcd8"
      },
      "execution_count": 17,
      "outputs": [
        {
          "output_type": "stream",
          "name": "stdout",
          "text": [
            "Plagiarism Checker\n",
            "Similarity between New Text Document.txt and Doc3.txt: 41.88%\n"
          ]
        }
      ]
    }
  ]
}