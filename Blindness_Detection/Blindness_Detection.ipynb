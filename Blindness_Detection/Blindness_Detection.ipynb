{
 "cells": [
  {
   "cell_type": "code",
   "execution_count": 10,
   "id": "9eb7f174-97a9-4c30-83f4-d2ed84fd5237",
   "metadata": {},
   "outputs": [],
   "source": [
    "import numpy as np\n",
    "import pandas as pd\n",
    "import matplotlib.pyplot as plt\n",
    "import os\n",
    "import cv2\n",
    "import keras\n",
    "from sklearn.model_selection import train_test_split\n",
    "from keras.optimizers import Adam\n",
    "from keras.models import Sequential\n",
    "from keras.layers import Conv2D, MaxPooling2D, Flatten, Dense, Dropout\n",
    "from tensorflow.keras.layers import Conv2D, MaxPooling2D, LeakyReLU\n",
    "from keras.preprocessing.image import ImageDataGenerator\n"
   ]
  },
  {
   "cell_type": "code",
   "execution_count": 6,
   "id": "43c2bcae-c92e-40c7-b7e7-bfdc251593fa",
   "metadata": {},
   "outputs": [],
   "source": [
    "# Load data\n",
    "train_data = pd.read_csv(\"E:/CodeClause/Artificial_Int/Blindness_Detection/train.csv\")\n",
    "test_data = pd.read_csv(\"E:/CodeClause/Artificial_Int/Blindness_Detection/test.csv\")\n",
    "train_images_path = \"E:/CodeClause/Artificial_Int/Blindness_Detection/train_images/\"\n",
    "test_images_path = \"E:/CodeClause/Artificial_Int/Blindness_Detection/test_images/\""
   ]
  },
  {
   "cell_type": "code",
   "execution_count": 7,
   "id": "379a1453-db56-4970-a74e-fd1acb1e6642",
   "metadata": {},
   "outputs": [],
   "source": [
    "# Data preprocessing\n",
    "def preprocess_image(image):\n",
    "    image = cv2.addWeighted(image, 4, cv2.GaussianBlur(image, (0, 0), 30), -4, 128)\n",
    "    image = cv2.resize(image, (120, 120))\n",
    "    return image\n",
    "\n",
    "def load_and_preprocess_images(image_ids, image_path):\n",
    "    images = []\n",
    "    for image_id in image_ids:\n",
    "        image = cv2.imread(os.path.join(image_path, image_id + \".png\"))\n",
    "        image = cv2.cvtColor(image, cv2.COLOR_BGR2RGB)\n",
    "        image = preprocess_image(image)\n",
    "        images.append(image)\n",
    "    return np.array(images)\n",
    "\n"
   ]
  },
  {
   "cell_type": "code",
   "execution_count": 8,
   "id": "9c810711-1c65-4bd3-9a89-7aa5c6e98d91",
   "metadata": {},
   "outputs": [],
   "source": [
    "# Split data\n",
    "trainX, testX, trainY, testY = train_test_split(train_data['id_code'], train_data['diagnosis'], test_size=0.2)\n",
    "\n",
    "train_imgs = load_and_preprocess_images(trainX, train_images_path)\n",
    "test_imgs = load_and_preprocess_images(testX, train_images_path)\n"
   ]
  },
  {
   "cell_type": "code",
   "execution_count": 11,
   "id": "2fcc6d08-3e20-4258-856a-3b26ac85ede8",
   "metadata": {},
   "outputs": [
    {
     "name": "stderr",
     "output_type": "stream",
     "text": [
      "WARNING:absl:`lr` is deprecated in Keras optimizer, please use `learning_rate` or use the legacy optimizer, e.g.,tf.keras.optimizers.legacy.Adam.\n"
     ]
    }
   ],
   "source": [
    "\n",
    "# Model\n",
    "model = Sequential()\n",
    "model.add(Conv2D(32, kernel_size=(3, 3), input_shape=(120, 120, 3)))\n",
    "model.add(LeakyReLU(alpha=0.1))\n",
    "model.add(MaxPooling2D(pool_size=(2, 2)))\n",
    "model.add(Conv2D(64, kernel_size=(3, 3)))\n",
    "model.add(LeakyReLU(alpha=0.1))\n",
    "model.add(MaxPooling2D(pool_size=(2, 2)))\n",
    "model.add(Flatten())\n",
    "model.add(Dense(128))\n",
    "model.add(LeakyReLU(alpha=0.1))\n",
    "model.add(Dropout(0.5))\n",
    "model.add(Dense(5, activation='softmax'))  # 5 classes for diagnosis\n",
    "\n",
    "model.compile(optimizer=Adam(lr=0.0001), loss='sparse_categorical_crossentropy', metrics=['accuracy'])\n",
    "\n"
   ]
  },
  {
   "cell_type": "code",
   "execution_count": 12,
   "id": "39a09c6d-5646-4571-9063-0946ce694573",
   "metadata": {},
   "outputs": [],
   "source": [
    "# Data augmentation\n",
    "datagen = ImageDataGenerator(\n",
    "    featurewise_center=True,\n",
    "    featurewise_std_normalization=True,\n",
    "    rotation_range=20,\n",
    "    width_shift_range=0.2,\n",
    "    height_shift_range=0.2,\n",
    "    horizontal_flip=True)\n",
    "\n",
    "datagen.fit(train_imgs)\n",
    "\n"
   ]
  },
  {
   "cell_type": "code",
   "execution_count": 14,
   "id": "edfb9840-0968-41e4-816f-a2a222ec4c55",
   "metadata": {},
   "outputs": [
    {
     "name": "stdout",
     "output_type": "stream",
     "text": [
      "Epoch 1/15\n"
     ]
    },
    {
     "name": "stderr",
     "output_type": "stream",
     "text": [
      "C:\\Users\\ABHIJEET\\AppData\\Local\\Temp\\ipykernel_9972\\2320528045.py:2: UserWarning: `Model.fit_generator` is deprecated and will be removed in a future version. Please use `Model.fit`, which supports generators.\n",
      "  history = model.fit_generator(datagen.flow(train_imgs, trainY, batch_size=32),\n"
     ]
    },
    {
     "name": "stdout",
     "output_type": "stream",
     "text": [
      "91/91 [==============================] - 36s 392ms/step - loss: 1.0754 - accuracy: 0.6200 - val_loss: 61.5318 - val_accuracy: 0.5989\n",
      "Epoch 2/15\n",
      "91/91 [==============================] - 37s 400ms/step - loss: 0.9782 - accuracy: 0.6559 - val_loss: 110.7935 - val_accuracy: 0.4925\n",
      "Epoch 3/15\n",
      "91/91 [==============================] - 36s 391ms/step - loss: 0.9565 - accuracy: 0.6729 - val_loss: 82.2010 - val_accuracy: 0.6207\n",
      "Epoch 4/15\n",
      "91/91 [==============================] - 39s 421ms/step - loss: 0.9214 - accuracy: 0.6763 - val_loss: 91.3217 - val_accuracy: 0.6016\n",
      "Epoch 5/15\n",
      "91/91 [==============================] - 40s 431ms/step - loss: 0.8874 - accuracy: 0.6869 - val_loss: 85.2790 - val_accuracy: 0.6876\n",
      "Epoch 6/15\n",
      "91/91 [==============================] - 40s 440ms/step - loss: 0.8537 - accuracy: 0.7033 - val_loss: 97.6362 - val_accuracy: 0.5703\n",
      "Epoch 7/15\n",
      "91/91 [==============================] - 38s 414ms/step - loss: 0.8177 - accuracy: 0.7026 - val_loss: 43.0507 - val_accuracy: 0.7190\n",
      "Epoch 8/15\n",
      "91/91 [==============================] - 40s 432ms/step - loss: 0.8273 - accuracy: 0.7040 - val_loss: 96.2855 - val_accuracy: 0.5157\n",
      "Epoch 9/15\n",
      "91/91 [==============================] - 42s 454ms/step - loss: 0.7924 - accuracy: 0.7173 - val_loss: 47.4430 - val_accuracy: 0.7067\n",
      "Epoch 10/15\n",
      "91/91 [==============================] - 42s 461ms/step - loss: 0.7829 - accuracy: 0.7142 - val_loss: 53.3521 - val_accuracy: 0.6971\n",
      "Epoch 11/15\n",
      "91/91 [==============================] - 43s 470ms/step - loss: 0.7593 - accuracy: 0.7156 - val_loss: 43.2160 - val_accuracy: 0.6862\n",
      "Epoch 12/15\n",
      "91/91 [==============================] - 44s 480ms/step - loss: 0.7785 - accuracy: 0.7129 - val_loss: 25.2996 - val_accuracy: 0.6999\n",
      "Epoch 13/15\n",
      "91/91 [==============================] - 42s 463ms/step - loss: 0.7596 - accuracy: 0.7269 - val_loss: 26.4285 - val_accuracy: 0.6126\n",
      "Epoch 14/15\n",
      "91/91 [==============================] - 41s 443ms/step - loss: 0.7691 - accuracy: 0.7180 - val_loss: 56.5477 - val_accuracy: 0.6398\n",
      "Epoch 15/15\n",
      "91/91 [==============================] - 40s 440ms/step - loss: 0.7493 - accuracy: 0.7200 - val_loss: 94.7566 - val_accuracy: 0.5307\n"
     ]
    }
   ],
   "source": [
    "# Train the model\n",
    "history = model.fit_generator(datagen.flow(train_imgs, trainY, batch_size=32),\n",
    "                              steps_per_epoch=len(train_imgs) / 32,\n",
    "                              validation_data=(test_imgs, testY),\n",
    "                              epochs=15)\n",
    "\n"
   ]
  },
  {
   "cell_type": "code",
   "execution_count": 15,
   "id": "553b8c8c-c049-4b25-aa42-4b728547fc79",
   "metadata": {},
   "outputs": [
    {
     "name": "stdout",
     "output_type": "stream",
     "text": [
      "Accuracy: 53.07%\n"
     ]
    }
   ],
   "source": [
    "# Evaluation\n",
    "score = model.evaluate(test_imgs, testY, verbose=0)\n",
    "print(\"Accuracy: %.2f%%\" % (score[1] * 100))"
   ]
  },
  {
   "cell_type": "code",
   "execution_count": 18,
   "id": "ce3eef6e-855f-46d9-b07a-99f8874ce175",
   "metadata": {},
   "outputs": [],
   "source": [
    "# Prediction\n",
    "test_imgs = load_and_preprocess_images(test_data['id_code'], test_images_path)"
   ]
  },
  {
   "cell_type": "code",
   "execution_count": 19,
   "id": "bee13c0d-3deb-465f-ab9d-bd9d5d53d2be",
   "metadata": {},
   "outputs": [
    {
     "name": "stdout",
     "output_type": "stream",
     "text": [
      "61/61 [==============================] - 5s 85ms/step\n"
     ]
    }
   ],
   "source": [
    "# Make predictions using the model\n",
    "predictions = model.predict(test_imgs)"
   ]
  },
  {
   "cell_type": "code",
   "execution_count": 20,
   "id": "1071a54a-ec30-46f1-8a87-45fc50d3604b",
   "metadata": {},
   "outputs": [],
   "source": [
    "# Extract the predicted class labels (assuming a classification task)\n",
    "predicted_classes = predictions.argmax(axis=-1)"
   ]
  },
  {
   "cell_type": "code",
   "execution_count": null,
   "id": "18b3d9ef-57c1-47cd-9663-a10285e50e02",
   "metadata": {},
   "outputs": [],
   "source": [
    "# Create a submission file\n",
    "submission = pd.DataFrame({'id_code': test_data['id_code'], 'diagnosis': predictions})\n",
    "submission.to_csv(\"submission.csv\", index=False)\n",
    "print(\"Submission file created.\")"
   ]
  }
 ],
 "metadata": {
  "kernelspec": {
   "display_name": "Python 3 (ipykernel)",
   "language": "python",
   "name": "python3"
  },
  "language_info": {
   "codemirror_mode": {
    "name": "ipython",
    "version": 3
   },
   "file_extension": ".py",
   "mimetype": "text/x-python",
   "name": "python",
   "nbconvert_exporter": "python",
   "pygments_lexer": "ipython3",
   "version": "3.10.9"
  }
 },
 "nbformat": 4,
 "nbformat_minor": 5
}
